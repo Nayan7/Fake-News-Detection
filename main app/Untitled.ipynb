{
 "cells": [
  {
   "cell_type": "code",
   "execution_count": 1,
   "metadata": {},
   "outputs": [],
   "source": [
    "import json"
   ]
  },
  {
   "cell_type": "code",
   "execution_count": 10,
   "metadata": {},
   "outputs": [],
   "source": [
    "data=[\n",
    "\t{\n",
    "\t\t\"img\":\"assets/images/image1.jpg\",\n",
    "\t\t\"description\":\"‘Keeping Our Eyes Open’: Sheikh Hasina Raises NRC Issue With PM Modi, Told It’s India’s Internal Matter\",\n",
    "\t\t\"url\":\"https://www.google.com\"\n",
    "\t},\n",
    "\t{\n",
    "\t\t\"img\":\"assets/images/image2.jpg\",\n",
    "\t\t\"description\":\"The big news: Activists in Mumbai detained as tree cutting begins in Aarey, and 9 other top stories\",\n",
    "\t\t\"url\":\"https://www.google.com\"\n",
    "\t},\n",
    "\t{\n",
    "\t\t\"img\":\"assets/images/image3.jpg\",\n",
    "\t\t\"description\":\"Twitter explodes as frustrated Rohit Sharma abuses Cheteshwar Pujara on stump mic\",\n",
    "\t\t\"url\":\"https://www.google.com\"\n",
    "\t}\n",
    "]"
   ]
  },
  {
   "cell_type": "code",
   "execution_count": 17,
   "metadata": {},
   "outputs": [],
   "source": [
    "data.append({\n",
    "    'name': 'Scott',\n",
    "    'website': 'stackabuse.com',\n",
    "    'from': 'Nebraska'\n",
    "})"
   ]
  },
  {
   "cell_type": "code",
   "execution_count": 32,
   "metadata": {},
   "outputs": [],
   "source": [
    "with open('../front-end/src/assets/data.json', '') as f:\n",
    "    data=json.load(f)"
   ]
  },
  {
   "cell_type": "code",
   "execution_count": 22,
   "metadata": {},
   "outputs": [],
   "source": [
    "del data"
   ]
  },
  {
   "cell_type": "code",
   "execution_count": 31,
   "metadata": {},
   "outputs": [
    {
     "name": "stdout",
     "output_type": "stream",
     "text": [
      "[\n",
      "    {\n",
      "        \"img\": \"assets/images/image1.jpg\",\n",
      "        \"description\": \"Keeping Our Eyes Open: Sheikh Hasina Raises NRC Issue With PM Modi, Told Its Indias Internal Matter\",\n",
      "        \"url\": \"https://www.google.com\"\n",
      "    },\n",
      "    {\n",
      "        \"img\": \"assets/images/image2.jpg\",\n",
      "        \"description\": \"The big news: Activists in Mumbai detained as tree cutting begins in Aarey, and 9 other top stories\",\n",
      "        \"url\": \"https://www.google.com\"\n",
      "    },\n",
      "    {\n",
      "        \"img\": \"assets/images/image3.jpg\",\n",
      "        \"description\": \"Twitter explodes as frustrated Rohit Sharma abuses Cheteshwar Pujara on stump mic\",\n",
      "        \"url\": \"https://www.google.com\"\n",
      "    }\n",
      "]\n"
     ]
    }
   ],
   "source": [
    "print(json.dumps(data,indent=4))"
   ]
  },
  {
   "cell_type": "code",
   "execution_count": 52,
   "metadata": {},
   "outputs": [],
   "source": [
    "a_dict =[{\n",
    "        \"img\": \"pehla\",\n",
    "        \"description\": \"Twitter explodes as frustrated Rohit Sharma abuses Cheteshwar Pujara on stump mic\",\n",
    "        \"url\": \"https://www.google.com\"\n",
    "    }]\n",
    "try:\n",
    "    with open('data.json','r') as f:\n",
    "        data = json.load(f)\n",
    "    for i in data:\n",
    "        a_dict.append(i)\n",
    "except:\n",
    "    pass\n",
    "with open('data.json', 'w') as f:\n",
    "    json.dump(a_dict, f,indent=4)"
   ]
  },
  {
   "cell_type": "code",
   "execution_count": 47,
   "metadata": {},
   "outputs": [],
   "source": [
    "with open('data.json','r') as f:\n",
    "    data = json.load(f)"
   ]
  },
  {
   "cell_type": "code",
   "execution_count": null,
   "metadata": {},
   "outputs": [],
   "source": []
  }
 ],
 "metadata": {
  "kernelspec": {
   "display_name": "Python 3",
   "language": "python",
   "name": "python3"
  },
  "language_info": {
   "codemirror_mode": {
    "name": "ipython",
    "version": 3
   },
   "file_extension": ".py",
   "mimetype": "text/x-python",
   "name": "python",
   "nbconvert_exporter": "python",
   "pygments_lexer": "ipython3",
   "version": "3.6.5"
  }
 },
 "nbformat": 4,
 "nbformat_minor": 2
}
