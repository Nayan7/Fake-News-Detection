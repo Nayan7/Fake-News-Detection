{
 "cells": [
  {
   "cell_type": "code",
   "execution_count": 4,
   "metadata": {},
   "outputs": [],
   "source": [
    "import time\n",
    "from selenium import webdriver\n",
    "from selenium.webdriver.common.keys import Keys\n",
    "from time import sleep\n",
    "import pandas as pd\n",
    "from selenium.webdriver.common.keys import Keys\n",
    "from selenium.common.exceptions import NoSuchElementException\n",
    "from fuzzywuzzy import fuzz\n",
    "import pickle\n",
    "import numpy as np\n",
    "\n",
    "from sklearn.feature_extraction.text import TfidfVectorizer\n",
    "from sklearn.metrics.pairwise import cosine_similarity\n",
    "# import gensim"
   ]
  },
  {
   "cell_type": "code",
   "execution_count": 7,
   "metadata": {},
   "outputs": [],
   "source": [
    "news='Supreme Court to study plea for food for all'\n",
    "sent1=news.split()\n",
    "results=[]"
   ]
  },
  {
   "cell_type": "code",
   "execution_count": 42,
   "metadata": {},
   "outputs": [],
   "source": [
    "driver = webdriver.Chrome(executable_path=r\"chromedriver.exe\")"
   ]
  },
  {
   "cell_type": "markdown",
   "metadata": {},
   "source": [
    "#### The Hindu"
   ]
  },
  {
   "cell_type": "code",
   "execution_count": 18,
   "metadata": {},
   "outputs": [],
   "source": [
    "driver.get(\"https://www.thehindu.com/\")"
   ]
  },
  {
   "cell_type": "markdown",
   "metadata": {},
   "source": [
    "Searching News Headline"
   ]
  },
  {
   "cell_type": "code",
   "execution_count": 19,
   "metadata": {},
   "outputs": [
    {
     "name": "stdout",
     "output_type": "stream",
     "text": [
      "SC to study petition for food for all\n",
      "Top news of the day: 4 killed in Navi Mumbai ONGC plant fire, Chidambaram to remain in CBI custody till September 5, and more\n",
      "Supreme Court to study plea for food for all\n",
      "Life after rescue: in West Bengal's human trafficking hub\n",
      "Life after rescue\n",
      "MGNREGA compensation delayed by Centre or states in around 50% cases: study\n",
      "Don’t let messengers shoot themselves\n",
      "As it happened: Rajya Sabha passes loan recovery Bill\n",
      "Illegal arrest a blow to individual dignity, says SC\n",
      "On death row, dying many deaths\n"
     ]
    }
   ],
   "source": [
    "link_path='//*[@id=\"GA-tracking-top\"]/div[2]/form/input[1]'\n",
    "elem=driver.find_element_by_xpath(link_path)\n",
    "elem.send_keys(news)\n",
    "elem.submit()\n",
    "for j in range(1,11):\n",
    "    res='//*[@id=\"scrolladvanced\"]/div[3]/div[3]/section/div['+str(j)+']/div/div/div[1]/a'\n",
    "    result=driver.find_element_by_xpath(res)\n",
    "    print(result.text)\n",
    "    sent2=result.text\n",
    "    sent2=sent2.split()\n",
    "    sentvectors1 = calc_avg_w2v([sent1],google_w2v)\n",
    "    sentvectors2 = calc_avg_w2v([sent2],google_w2v)\n",
    "    #print(cosine_similarity(sentvectors1,sentvectors2)[0][0])\n",
    "    if (cosine_similarity(sentvectors1,sentvectors2)[0][0]>0.75):\n",
    "        results.append(result.text)"
   ]
  },
  {
   "cell_type": "code",
   "execution_count": 39,
   "metadata": {},
   "outputs": [
    {
     "data": {
      "text/plain": [
       "['SC to study petition for food for all',\n",
       " 'Supreme Court to study plea for food for all']"
      ]
     },
     "execution_count": 39,
     "metadata": {},
     "output_type": "execute_result"
    }
   ],
   "source": [
    "results"
   ]
  },
  {
   "cell_type": "markdown",
   "metadata": {},
   "source": [
    "#### Times Of india"
   ]
  },
  {
   "cell_type": "code",
   "execution_count": 89,
   "metadata": {},
   "outputs": [],
   "source": [
    "driver.get(\"https://timesofindia.indiatimes.com/\")"
   ]
  },
  {
   "cell_type": "code",
   "execution_count": 90,
   "metadata": {},
   "outputs": [
    {
     "name": "stdout",
     "output_type": "stream",
     "text": [
      "Everything going according to plan: Isro chief\n",
      "Moment 130 cr Indians waiting for is here: PM\n",
      "Why BSY is not rejoicing over DKS's arrest\n",
      "Bianca, the teenager who will look to stop Serena\n",
      "Want US citizenship? Social media IDs, please\n",
      "5-ft cobra slips into bungalow toilet, rescued\n",
      "Turkish duo held for 60 ATM frauds in Assam\n"
     ]
    }
   ],
   "source": [
    "for i in range(1,8):\n",
    "    link_path='//*[@id=\"content\"]/div/div[6]/ul/li['+str(i)+']/a'\n",
    "    elem=driver.find_element_by_xpath(link_path)\n",
    "    print(elem.text)"
   ]
  },
  {
   "cell_type": "markdown",
   "metadata": {},
   "source": [
    "Searching News Headline"
   ]
  },
  {
   "cell_type": "code",
   "execution_count": 91,
   "metadata": {},
   "outputs": [
    {
     "name": "stdout",
     "output_type": "stream",
     "text": [
      "Ayodhya: SC to hear Rajeev Dhavan's contempt plea against ex-govt official for threatening him\n",
      "Supreme Court to hear BJP’s yatra plea on January 8\n",
      "Supreme Court to hear plea on social media hub\n",
      "All eyes on SC ahead of CBI chief's plea against govt order\n",
      "Pleas against CLAT 2018: SC seeks solution to complaints of candidates\n",
      "SC to hear tomorrow pleas challenging CLAT 2018 examination\n",
      "SC seeks Centre's reply on Shia Waqf Board's plea against 'un-Islamic' flags\n",
      "Foreigner or citizen? Assam finds out at stroke of midnight on Dec 31\n"
     ]
    }
   ],
   "source": [
    "link_path='//*[@id=\"header\"]/div[2]/div[2]/div/span'\n",
    "elem=driver.find_element_by_xpath(link_path).click()\n",
    "link_path='//*[@id=\"query\"]'\n",
    "elem=driver.find_element_by_xpath(link_path)\n",
    "elem.send_keys(news)\n",
    "elem.submit()\n",
    "link_path='//*[@id=\"news\"]'\n",
    "elem=driver.find_element_by_xpath(link_path).click()\n",
    "for i in range(1,11):\n",
    "    link_path='//*[@id=\"c_topic_list1_1\"]/div[1]/ul/li['+str(i)+']/div/a/span[1]'\n",
    "    try:\n",
    "        result=driver.find_element_by_xpath(link_path)\n",
    "        print(result.text)\n",
    "        sent2=result.text\n",
    "        sent2=sent2.split()\n",
    "        sentvectors1 = calc_avg_w2v([sent1],google_w2v)\n",
    "        sentvectors2 = calc_avg_w2v([sent2],google_w2v)\n",
    "        #print(cosine_similarity(sentvectors1,sentvectors2)[0][0])\n",
    "        if (cosine_similarity(sentvectors1,sentvectors2)[0][0]>0.75):\n",
    "            results.append(result.text)\n",
    "    except:\n",
    "        pass"
   ]
  },
  {
   "cell_type": "code",
   "execution_count": 92,
   "metadata": {},
   "outputs": [
    {
     "data": {
      "text/plain": [
       "['SC to study petition for food for all',\n",
       " 'Supreme Court to study plea for food for all',\n",
       " 'SC to study petition for food for all',\n",
       " 'Supreme Court to study plea for food for all']"
      ]
     },
     "execution_count": 92,
     "metadata": {},
     "output_type": "execute_result"
    }
   ],
   "source": [
    "results"
   ]
  },
  {
   "cell_type": "markdown",
   "metadata": {},
   "source": [
    "#### BBC News"
   ]
  },
  {
   "cell_type": "code",
   "execution_count": 97,
   "metadata": {},
   "outputs": [],
   "source": [
    "driver.get('https://www.bbc.com/news')"
   ]
  },
  {
   "cell_type": "code",
   "execution_count": 102,
   "metadata": {},
   "outputs": [],
   "source": [
    "link_path='//*[@id=\"orb-search-q\"]'\n",
    "elem=driver.find_element_by_xpath(link_path)\n",
    "elem.send_keys(news)\n",
    "elem.submit()\n",
    "for j in range(1,11):\n",
    "    res='//*[@id=\"search-content\"]/ol/li['+str(j)+']/article/div/h1/a'\n",
    "    try:\n",
    "        result=driver.find_element_by_xpath(res)\n",
    "        print(result.text)\n",
    "        sent2=result.text\n",
    "        sent2=sent2.split()\n",
    "        sentvectors1 = calc_avg_w2v([sent1],google_w2v)\n",
    "        sentvectors2 = calc_avg_w2v([sent2],google_w2v)\n",
    "        print(cosine_similarity(sentvectors1,sentvectors2)[0][0])\n",
    "        if (cosine_similarity(sentvectors1,sentvectors2)[0][0]>0.75):\n",
    "            results.append(result.text)\n",
    "    except:\n",
    "        pass"
   ]
  },
  {
   "cell_type": "code",
   "execution_count": 103,
   "metadata": {},
   "outputs": [
    {
     "data": {
      "text/plain": [
       "[]"
      ]
     },
     "execution_count": 103,
     "metadata": {},
     "output_type": "execute_result"
    }
   ],
   "source": [
    "results"
   ]
  },
  {
   "cell_type": "markdown",
   "metadata": {},
   "source": [
    "#### DNA"
   ]
  },
  {
   "cell_type": "code",
   "execution_count": 32,
   "metadata": {},
   "outputs": [],
   "source": [
    "driver.get(\"https://www.dnaindia.com/\")"
   ]
  },
  {
   "cell_type": "code",
   "execution_count": 33,
   "metadata": {},
   "outputs": [
    {
     "name": "stdout",
     "output_type": "stream",
     "text": [
      "<div class=\"gsc-thumbnail-inside\"><div class=\"gs-title\"><a class=\"gs-title\" href=\"https://www.dnaindia.com/ahmedabad/report-gujarat-high-court-issues-notice-to-state-over-pleas-challenging-alcohol-prohibition-2723006\" target=\"_parent\" dir=\"ltr\" data-cturl=\"https://www.google.com/url?client=internal-uds-cse&amp;cx=partner-pub-8331061652869281:jrt9zf-p1ic&amp;q=https://www.dnaindia.com/ahmedabad/report-gujarat-high-court-issues-notice-to-state-over-pleas-challenging-alcohol-prohibition-2723006&amp;sa=U&amp;ved=2ahUKEwjem_WYub7kAhXRgUsFHXt5ARUQFjAAegQIBhAC&amp;usg=AOvVaw2m6hdREks6Y7uIIUELBxKA\" data-ctorig=\"https://www.dnaindia.com/ahmedabad/report-gujarat-high-court-issues-notice-to-state-over-pleas-challenging-alcohol-prohibition-2723006\">Gujarat <b>High Court</b> issues notice to state over <b>pleas</b> challenging ...</a></div></div><div class=\"gsc-url-top\"><div class=\"gs-bidi-start-align gs-visibleUrl gs-visibleUrl-short\" dir=\"ltr\">www.dnaindia.com</div><div class=\"gs-bidi-start-align gs-visibleUrl gs-visibleUrl-long\" dir=\"ltr\" style=\"word-break:break-all;\">https://www.dnaindia.com/.../report-gujarat-<b>high</b>-<b>court</b>-issues-notice-to-state- over-<b>pleas</b>-ch<b>all</b>enging-alcohol-prohibition-2723006</div></div><div class=\"gsc-table-result\"><div class=\"gsc-table-cell-thumbnail gsc-thumbnail\" style=\"\"><div class=\"gs-image-box gs-web-image-box gs-web-image-box-landscape\"><a class=\"gs-image\" href=\"https://www.dnaindia.com/ahmedabad/report-gujarat-high-court-issues-notice-to-state-over-pleas-challenging-alcohol-prohibition-2723006\" target=\"_parent\" data-cturl=\"https://www.google.com/url?client=internal-uds-cse&amp;cx=partner-pub-8331061652869281:jrt9zf-p1ic&amp;q=https://www.dnaindia.com/ahmedabad/report-gujarat-high-court-issues-notice-to-state-over-pleas-challenging-alcohol-prohibition-2723006&amp;sa=U&amp;ved=2ahUKEwjem_WYub7kAhXRgUsFHXt5ARUQFjAAegQIBhAC&amp;usg=AOvVaw2m6hdREks6Y7uIIUELBxKA\" data-ctorig=\"https://www.dnaindia.com/ahmedabad/report-gujarat-high-court-issues-notice-to-state-over-pleas-challenging-alcohol-prohibition-2723006\"><img class=\"gs-image\" onload=\"if (this.parentNode &amp;&amp; this.parentNode.parentNode &amp;&amp; this.parentNode.parentNode.parentNode) { this.parentNode.parentNode.parentNode.style.display = ''; this.parentNode.parentNode.className = 'gs-image-box gs-web-image-box gs-web-image-box-landscape'; } \" src=\"https://cdn.dnaindia.com/sites/default/files/styles/square/public/2019/02/23/794612-liquor-012917.jpg\"></a></div></div><div class=\"gsc-table-cell-snippet-close\"><div class=\"gs-title gsc-table-cell-thumbnail gsc-thumbnail-left\"><a class=\"gs-title\" href=\"https://www.dnaindia.com/ahmedabad/report-gujarat-high-court-issues-notice-to-state-over-pleas-challenging-alcohol-prohibition-2723006\" target=\"_parent\" dir=\"ltr\" data-cturl=\"https://www.google.com/url?client=internal-uds-cse&amp;cx=partner-pub-8331061652869281:jrt9zf-p1ic&amp;q=https://www.dnaindia.com/ahmedabad/report-gujarat-high-court-issues-notice-to-state-over-pleas-challenging-alcohol-prohibition-2723006&amp;sa=U&amp;ved=2ahUKEwjem_WYub7kAhXRgUsFHXt5ARUQFjAAegQIBhAC&amp;usg=AOvVaw2m6hdREks6Y7uIIUELBxKA\" data-ctorig=\"https://www.dnaindia.com/ahmedabad/report-gujarat-high-court-issues-notice-to-state-over-pleas-challenging-alcohol-prohibition-2723006\">Gujarat <b>High Court</b> issues notice to state over <b>pleas</b> challenging ...</a></div><div><span></span></div><div class=\"gs-bidi-start-align gs-snippet\" dir=\"ltr\">Feb 23, 2019 <b>...</b> The senior advocate also pointed out that <b>every</b> person has a right ... The Gujarat \n",
      "<b>High Court</b> on Friday finally sought a reply from the ... Kavina pointed out to the \n",
      "court that alcohol comes under the definition of '<b>food</b>' under the&nbsp;...</div><div class=\"gsc-url-bottom\"><div class=\"gs-bidi-start-align gs-visibleUrl gs-visibleUrl-short\" dir=\"ltr\">www.dnaindia.com</div><div class=\"gs-bidi-start-align gs-visibleUrl gs-visibleUrl-long\" dir=\"ltr\" style=\"word-break:break-all;\">https://www.dnaindia.com/.../report-gujarat-<b>high</b>-<b>court</b>-issues-notice-to-state- over-<b>pleas</b>-ch<b>all</b>enging-alcohol-prohibition-2723006</div></div><div class=\"gs-richsnippet-box\" style=\"display: none;\"></div><div class=\"gs-per-result-labels\" url=\"https://www.dnaindia.com/ahmedabad/report-gujarat-high-court-issues-notice-to-state-over-pleas-challenging-alcohol-prohibition-2723006\"></div></div></div>\n"
     ]
    },
    {
     "data": {
      "text/plain": [
       "'\\nfor i in range(1,11):\\n    link_path=\\'//*[@id=\"___gcse_0\"]/div/div/div/div[5]/div[2]/div/div/div[\\'+str(i)+\\']/div[1]/div[1]/div/a\\'\\n    try:\\n        result=driver.find_element_by_xpath(link_path)\\n        print(result.text)\\n        sent2=result.text\\n        sent2=sent2.split()\\n        sentvectors1 = calc_avg_w2v([sent1],google_w2v)\\n        sentvectors2 = calc_avg_w2v([sent2],google_w2v)\\n        #print(cosine_similarity(sentvectors1,sentvectors2)[0][0])\\n        if (cosine_similarity(sentvectors1,sentvectors2)[0][0]>0.75):\\n            results.append(result.text)\\n    except:\\n        pass\\n'"
      ]
     },
     "execution_count": 33,
     "metadata": {},
     "output_type": "execute_result"
    }
   ],
   "source": [
    "link_path='//*[@id=\"hdrscl\"]/div[1]/i'\n",
    "elem=driver.find_element_by_xpath(link_path).click()\n",
    "sleep(3)\n",
    "link_path='//*[@id=\"hdrscl\"]/div[2]/form/input'\n",
    "elem=driver.find_element_by_xpath(link_path)\n",
    "elem.send_keys(news)\n",
    "elem.submit()\n",
    "atags = driver.find_elements_by_css_selector('#___gcse_0 > div > div > div > div.gsc-wrapper > div.gsc-resultsbox-visible > div > div > div.gsc-webResult.gsc-result > div.gs-webResult.gs-result ')\n",
    "for a in atags:\n",
    "     print (a.get_attribute('innerHTML'))\n",
    "\n",
    "'''\n",
    "for i in range(1,11):\n",
    "    link_path='//*[@id=\"___gcse_0\"]/div/div/div/div[5]/div[2]/div/div/div['+str(i)+']/div[1]/div[1]/div/a'\n",
    "    try:\n",
    "        result=driver.find_element_by_xpath(link_path)\n",
    "        print(result.text)\n",
    "        sent2=result.text\n",
    "        sent2=sent2.split()\n",
    "        sentvectors1 = calc_avg_w2v([sent1],google_w2v)\n",
    "        sentvectors2 = calc_avg_w2v([sent2],google_w2v)\n",
    "        #print(cosine_similarity(sentvectors1,sentvectors2)[0][0])\n",
    "        if (cosine_similarity(sentvectors1,sentvectors2)[0][0]>0.75):\n",
    "            results.append(result.text)\n",
    "    except:\n",
    "        pass\n",
    "'''"
   ]
  },
  {
   "cell_type": "code",
   "execution_count": 13,
   "metadata": {},
   "outputs": [
    {
     "data": {
      "text/plain": [
       "[]"
      ]
     },
     "execution_count": 13,
     "metadata": {},
     "output_type": "execute_result"
    }
   ],
   "source": [
    "results"
   ]
  },
  {
   "cell_type": "markdown",
   "metadata": {},
   "source": [
    "AP news"
   ]
  },
  {
   "cell_type": "code",
   "execution_count": 41,
   "metadata": {},
   "outputs": [],
   "source": [
    "news='johnson suspends UK parliament after latest brexit defeat'\n",
    "sent1=news.split()\n",
    "results=[]"
   ]
  },
  {
   "cell_type": "code",
   "execution_count": 61,
   "metadata": {},
   "outputs": [
    {
     "name": "stdout",
     "output_type": "stream",
     "text": [
      "Johnson suspends UK Parliament after latest Brexit defeat\n",
      "Johnson suspends UK Parliament after latest Brexit defeat\n"
     ]
    }
   ],
   "source": [
    "driver.get(\"https://www.apnews.com/\")\n",
    "link_path='//*[@id=\"root\"]/div/main/div[1]/div[1]/nav/ol/li[5]/div'\n",
    "elem=driver.find_element_by_xpath(link_path).click()\n",
    "driver.find_element_by_xpath('//*[@id=\"root\"]/div/main/div[1]/div[2]/div/div/input').send_keys(news)\n",
    "driver.find_element_by_xpath('//*[@id=\"root\"]/div/main/div[1]/div[2]/div/div/input').send_keys(Keys.RETURN)\n",
    "sleep(2)\n",
    "\n",
    "for j in range(1,11):\n",
    "    try:\n",
    "        res='//*[@id=\"root\"]/div/main/div[1]/div[2]/div/div/section/section/div/div/ul/li['+str(j)+']/a'\n",
    "        result=driver.find_element_by_xpath(res)\n",
    "        print(result.text)\n",
    "        sent2=result.text\n",
    "        sent2=sent2.split()\n",
    "        sentvectors1 = calc_avg_w2v([sent1],google_w2v)\n",
    "        sentvectors2 = calc_avg_w2v([sent2],google_w2v)\n",
    "    except NoSuchElementException:\n",
    "        pass"
   ]
  },
  {
   "cell_type": "markdown",
   "metadata": {},
   "source": [
    "the bureau investigates"
   ]
  },
  {
   "cell_type": "code",
   "execution_count": 63,
   "metadata": {},
   "outputs": [],
   "source": [
    "news='Revealed: How the global beef trade is destroying the Amazon'\n",
    "sent1=news.split()\n",
    "results=[]"
   ]
  },
  {
   "cell_type": "code",
   "execution_count": 66,
   "metadata": {},
   "outputs": [
    {
     "name": "stdout",
     "output_type": "stream",
     "text": [
      "Food and Farming\n",
      "Revealed: How the global beef trade is destroying the Amazon\n"
     ]
    },
    {
     "name": "stderr",
     "output_type": "stream",
     "text": [
      "C:\\Users\\Rohan Gore\\Anaconda3\\lib\\site-packages\\ipykernel_launcher.py:23: RuntimeWarning: invalid value encountered in true_divide\n"
     ]
    },
    {
     "name": "stdout",
     "output_type": "stream",
     "text": [
      "Homepage\n"
     ]
    }
   ],
   "source": [
    "driver.get(\"https://www.thebureauinvestigates.com/\")\n",
    "link_path='/html/body/header/div/div/div[1]'\n",
    "elem=driver.find_element_by_xpath(link_path).click()\n",
    "driver.find_element_by_xpath('/html/body/div[3]/div/div/form/input[1]').send_keys(news)\n",
    "driver.find_element_by_xpath('/html/body/div[3]/div/div/form/input[1]').send_keys(Keys.RETURN)\n",
    "sleep(2)\n",
    "\n",
    "for j in range(1,11):\n",
    "    try:\n",
    "        res='/html/body/div[4]/div/a['+str(j)+']/div[2]/p'\n",
    "        result=driver.find_element_by_xpath(res)\n",
    "        print(result.text)\n",
    "        sent2=result.text\n",
    "        sent2=sent2.split()\n",
    "        sentvectors1 = calc_avg_w2v([sent1],google_w2v)\n",
    "        sentvectors2 = calc_avg_w2v([sent2],google_w2v)\n",
    "    except NoSuchElementException:\n",
    "        pass"
   ]
  },
  {
   "cell_type": "code",
   "execution_count": 5,
   "metadata": {},
   "outputs": [],
   "source": [
    "sent1='supreme court to study plea for food for all'\n",
    "sent2='supreme court to hear plea on social media hub'"
   ]
  },
  {
   "cell_type": "code",
   "execution_count": 113,
   "metadata": {},
   "outputs": [],
   "source": [
    "tf_idf_vect = TfidfVectorizer()\n",
    "tf_idf1 = tf_idf_vect.fit_transform([sent1])\n",
    "tf_idf2 = tf_idf_vect.transform([sent2])"
   ]
  },
  {
   "cell_type": "code",
   "execution_count": 114,
   "metadata": {},
   "outputs": [
    {
     "data": {
      "text/plain": [
       "<1x56 sparse matrix of type '<class 'numpy.float64'>'\n",
       "\twith 44 stored elements in Compressed Sparse Row format>"
      ]
     },
     "execution_count": 114,
     "metadata": {},
     "output_type": "execute_result"
    }
   ],
   "source": [
    "tf_idf2"
   ]
  },
  {
   "cell_type": "code",
   "execution_count": 115,
   "metadata": {},
   "outputs": [
    {
     "data": {
      "text/plain": [
       "array([[0.94840891]])"
      ]
     },
     "execution_count": 115,
     "metadata": {},
     "output_type": "execute_result"
    }
   ],
   "source": [
    "cosine_similarity(tf_idf1,tf_idf2)"
   ]
  },
  {
   "cell_type": "code",
   "execution_count": 61,
   "metadata": {},
   "outputs": [],
   "source": [
    "## size is the no of dimentsions\n",
    "## min_count specifies the min no of times a word needs to occur to be included in the model\n",
    "## workers is the number of cores on your PC\n",
    "w2v_model=gensim.models.Word2Vec(sent1,min_count=1,size=50, workers=4)"
   ]
  },
  {
   "cell_type": "code",
   "execution_count": 62,
   "metadata": {},
   "outputs": [
    {
     "name": "stdout",
     "output_type": "stream",
     "text": [
      "1\n"
     ]
    }
   ],
   "source": [
    "words = list(w2v_model.wv.vocab)\n",
    "print(len(words))"
   ]
  },
  {
   "cell_type": "code",
   "execution_count": 63,
   "metadata": {},
   "outputs": [
    {
     "data": {
      "text/plain": [
       "['stupid']"
      ]
     },
     "execution_count": 63,
     "metadata": {},
     "output_type": "execute_result"
    }
   ],
   "source": [
    "words"
   ]
  },
  {
   "cell_type": "code",
   "execution_count": 65,
   "metadata": {},
   "outputs": [
    {
     "data": {
      "text/plain": [
       "[]"
      ]
     },
     "execution_count": 65,
     "metadata": {},
     "output_type": "execute_result"
    }
   ],
   "source": [
    "w2v_model.wv.most_similar('stupid')"
   ]
  },
  {
   "cell_type": "code",
   "execution_count": 84,
   "metadata": {},
   "outputs": [],
   "source": [
    "import gensim.models.keyedvectors as word2vec\n",
    "model = word2vec.KeyedVectors.load_word2vec_format('GoogleNews-vectors-negative300.bin.gz', binary=True)"
   ]
  },
  {
   "cell_type": "code",
   "execution_count": 92,
   "metadata": {},
   "outputs": [
    {
     "data": {
      "text/plain": [
       "0.8173138"
      ]
     },
     "execution_count": 92,
     "metadata": {},
     "output_type": "execute_result"
    }
   ],
   "source": [
    "model.similarity('stupid','dumb')"
   ]
  },
  {
   "cell_type": "code",
   "execution_count": 48,
   "metadata": {},
   "outputs": [],
   "source": [
    "with open('google_word2vec_model','rb') as pickle_file:\n",
    "    google_w2v=pickle.load(pickle_file)"
   ]
  },
  {
   "cell_type": "code",
   "execution_count": 49,
   "metadata": {},
   "outputs": [
    {
     "data": {
      "text/plain": [
       "array([[0.47047198]], dtype=float32)"
      ]
     },
     "execution_count": 49,
     "metadata": {},
     "output_type": "execute_result"
    }
   ],
   "source": [
    "cosine_similarity([google_w2v['stupid']],[google_w2v['smart']])"
   ]
  },
  {
   "cell_type": "markdown",
   "metadata": {},
   "source": [
    "Now let's try it for a complete sentence"
   ]
  },
  {
   "cell_type": "code",
   "execution_count": 50,
   "metadata": {},
   "outputs": [],
   "source": [
    "def calc_avg_w2v(list_of_sent, w2v_model):\n",
    "    \n",
    "      ## Initialize an empty list\n",
    "    sent_vectors = []\n",
    "    ## Consider one sentence/review at a time\n",
    "    for sent in list_of_sent:\n",
    "        ## Initialize sentence vector to 0\n",
    "        sent_vec = np.zeros(300)\n",
    "        ## Initialize count of words to 0\n",
    "        cnt_words = 0\n",
    "        ## Consider the words one by one\n",
    "        for word in sent:\n",
    "            try:\n",
    "                ## Calculate the word vector using the W2V model\n",
    "                vec = w2v_model[word]\n",
    "                ## Add the word vector to the sentence vector (This is the numerator)\n",
    "                sent_vec += vec\n",
    "                ## Sum all the word counts (This is the denominator)\n",
    "                cnt_words += 1\n",
    "            except:\n",
    "                pass\n",
    "        ## Divide the numerator by the denominator to get the sentence vector\n",
    "        sent_vec /= cnt_words\n",
    "        ## Add the sentence vector in the final list\n",
    "        sent_vectors.append(sent_vec)\n",
    "    ## return the list of all the sentence vectors\n",
    "    return sent_vectors"
   ]
  },
  {
   "cell_type": "code",
   "execution_count": 51,
   "metadata": {},
   "outputs": [],
   "source": [
    "sent1=\"The hippocampus is a major component of the brains of humans and other vertebrates. It belongs to the limbic system and plays important roles in the consolidation of information from short-term memory to long-term memory and spatial navigation. Humans and other mammals have two hippocampi, one in each side of the brain. The hippocampus is a part of the cerebral cortex; and in primates it is located in the medial temporal lobe, underneath the cortical surface. It contains two main interlocking parts: Ammon's horn and the dentate gyrus.\"\n",
    "sent2=\"An important part of the brains of humans and other vertebrates is the hippocampus. It's part of the limbic system and moves information from short-term to long-term memory. It also helps us move around. Humans and other mammals have two hippocampi, one on each side. The hippocampus is a part of the cerebral cortex; and in primates it is found in the medial temporal lobe, beneathe the cortical surface. It has two main interlocking parts: Ammon's horn and the dentate gyrus.\""
   ]
  },
  {
   "cell_type": "code",
   "execution_count": 52,
   "metadata": {},
   "outputs": [],
   "source": [
    "sent1=sent1.split()\n",
    "sent2=sent2.split()"
   ]
  },
  {
   "cell_type": "code",
   "execution_count": 53,
   "metadata": {},
   "outputs": [],
   "source": [
    "sentvectors1 = calc_avg_w2v([sent1],google_w2v)\n",
    "sentvectors2 = calc_avg_w2v([sent2],google_w2v)"
   ]
  },
  {
   "cell_type": "code",
   "execution_count": 54,
   "metadata": {},
   "outputs": [
    {
     "data": {
      "text/plain": [
       "0.8855556763092793"
      ]
     },
     "execution_count": 54,
     "metadata": {},
     "output_type": "execute_result"
    }
   ],
   "source": [
    "cosine_similarity(sentvectors1,sentvectors2)[0][0]"
   ]
  },
  {
   "cell_type": "code",
   "execution_count": 109,
   "metadata": {},
   "outputs": [
    {
     "data": {
      "text/plain": [
       "71"
      ]
     },
     "execution_count": 109,
     "metadata": {},
     "output_type": "execute_result"
    }
   ],
   "source": [
    "fuzz.ratio(sent1,sent2)"
   ]
  },
  {
   "cell_type": "code",
   "execution_count": null,
   "metadata": {},
   "outputs": [],
   "source": []
  },
  {
   "cell_type": "code",
   "execution_count": null,
   "metadata": {},
   "outputs": [],
   "source": []
  },
  {
   "cell_type": "code",
   "execution_count": null,
   "metadata": {},
   "outputs": [],
   "source": []
  },
  {
   "cell_type": "code",
   "execution_count": null,
   "metadata": {},
   "outputs": [],
   "source": []
  },
  {
   "cell_type": "code",
   "execution_count": null,
   "metadata": {},
   "outputs": [],
   "source": []
  },
  {
   "cell_type": "code",
   "execution_count": null,
   "metadata": {},
   "outputs": [],
   "source": []
  },
  {
   "cell_type": "markdown",
   "metadata": {},
   "source": [
    "## Send body to google"
   ]
  },
  {
   "cell_type": "code",
   "execution_count": 3,
   "metadata": {
    "scrolled": false
   },
   "outputs": [
    {
     "name": "stdout",
     "output_type": "stream",
     "text": [
      "[<selenium.webdriver.remote.webelement.WebElement (session=\"d485e4c75057821245b909870b9de032\", element=\"176df233-a45f-4185-b3c3-dab4ff8d749a\")>, <selenium.webdriver.remote.webelement.WebElement (session=\"d485e4c75057821245b909870b9de032\", element=\"aeb2440c-3a3f-470b-84b4-a00088a4e098\")>, <selenium.webdriver.remote.webelement.WebElement (session=\"d485e4c75057821245b909870b9de032\", element=\"90b6e5eb-74a8-4e39-aa84-2f175ef7c4d9\")>, <selenium.webdriver.remote.webelement.WebElement (session=\"d485e4c75057821245b909870b9de032\", element=\"6fd27dc7-b62e-4f20-a4bb-038d2d784493\")>, <selenium.webdriver.remote.webelement.WebElement (session=\"d485e4c75057821245b909870b9de032\", element=\"df15bc66-6cce-4bc8-9aad-2ee405c58b1f\")>]\n",
      "Harry Potter: 5 Reasons Lily Potter Should Have Been With ...\n",
      "10 Little Known Details About The Original Die Hard\n",
      "SHARON OSBOURNE Blasts Reports OZZY Is On 'Crazy ...\n",
      "Harry Potter: 10 Most Evil Gryffindors Of The Whole Series\n",
      "Ranking the Potter Puppet Pals from least to most vocally ...\n",
      "Harry Potter: Every Defense Against The Dark Arts Professor ...\n"
     ]
    }
   ],
   "source": [
    "headlines=[]\n",
    "driver = webdriver.Chrome(\"chromedriver.exe\")\n",
    "#l=['Britain’s House of Commons reconvened on September 25, a day after the bombshell Supreme Court ruling that Prime Minister Boris Johnson had acted illegally by suspending Parliament, and lawmakers immediately demanded answers about how the suspension came about in the first place.']\n",
    "l=['severus snape dead']\n",
    "# for i in l:\n",
    "    \n",
    "#     # The hindu\n",
    "#     driver.get(\"https://www.thehindu.com/\")\n",
    "\n",
    "#     link_path='//*[@id=\"GA-tracking-top\"]/div[2]/form/input[1]'\n",
    "#     elem=driver.find_element_by_xpath(link_path)\n",
    "#     elem.send_keys(i)\n",
    "#     elem.submit()\n",
    "#     for j in range(1,11):\n",
    "#         sleep(1)\n",
    "#         res='//*[@id=\"scrolladvanced\"]/div[3]/div[2]/section/div['+str(j)+']/div/div/div[1]/a'\n",
    "#         try:\n",
    "#             result=driver.find_element_by_xpath(res)\n",
    "#             headlines.append(result.text)\n",
    "            \n",
    "#         except NoSuchElementException:\n",
    "#             pass\n",
    "        \n",
    "#     # Times Of India\n",
    "#     driver.get(\"https://timesofindia.indiatimes.com/\")\n",
    "    \n",
    "#     link_path='//*[@id=\"header\"]/div[2]/div[2]/div/span'\n",
    "#     elem=driver.find_element_by_xpath(link_path).click()\n",
    "#     link_path='//*[@id=\"query\"]'\n",
    "#     elem=driver.find_element_by_xpath(link_path)\n",
    "    \n",
    "#     # send body\n",
    "#     elem.send_keys(i)\n",
    "#     elem.submit()\n",
    "#     link_path='//*[@id=\"news\"]'\n",
    "#     elem=driver.find_element_by_xpath(link_path).click()\n",
    "#     for i in range(1,11):\n",
    "#         link_path='//*[@id=\"c_topic_list1_1\"]/div[1]/ul/li['+str(i)+']/div/a/span[1]'\n",
    "#         try:\n",
    "#             result=driver.find_element_by_xpath(link_path)\n",
    "#             headlines.append(result.text)\n",
    "#         except:\n",
    "#             pass\n",
    "        \n",
    "#     # BCC\n",
    "#     driver.get('https://www.bbc.com/news')\n",
    "#     link_path='//*[@id=\"orb-search-q\"]'\n",
    "#     elem=driver.find_element_by_xpath(link_path)\n",
    "    \n",
    "#     #send body\n",
    "#     elem.send_keys(i)\n",
    "#     elem.submit()\n",
    "#     for j in range(1,11):\n",
    "#         res='//*[@id=\"search-content\"]/ol/li['+str(j)+']/article/div/h1/a'\n",
    "#         try:\n",
    "#             result=driver.find_element_by_xpath(res)\n",
    "#             headlines.append(result.text)\n",
    "#         except:\n",
    "#             pass\n",
    "        \n",
    "#     # AP news    \n",
    "#     driver.get(\"https://www.apnews.com/\")\n",
    "    \n",
    "#     link_path='//*[@id=\"root\"]/div/main/div[1]/div[1]/nav/ol/li[5]/div'\n",
    "#     elem=driver.find_element_by_xpath(link_path).click()\n",
    "#     driver.find_element_by_xpath('//*[@id=\"root\"]/div/main/div[1]/div[2]/div/div/input').send_keys(i)\n",
    "#     driver.find_element_by_xpath('//*[@id=\"root\"]/div/main/div[1]/div[2]/div/div/input').send_keys(Keys.RETURN)\n",
    "#     sleep(2)\n",
    "#     for j in range(1,11):\n",
    "#         try:\n",
    "#             res='//*[@id=\"root\"]/div/main/div[1]/div[2]/div/div/section/section/div/div/ul/li['+str(j)+']/a'\n",
    "#             result=driver.find_element_by_xpath(res)\n",
    "#             headlines.append(result.text)\n",
    "#         except NoSuchElementException:\n",
    "#             pass\n",
    "      \n",
    "#     # the bureau investigates\n",
    "#     driver.get(\"https://www.thebureauinvestigates.com/\")\n",
    "    \n",
    "#     link_path='/html/body/header/div/div/div[1]'\n",
    "#     elem=driver.find_element_by_xpath(link_path).click()\n",
    "#     driver.find_element_by_xpath('/html/body/div[3]/div/div/form/input[1]').send_keys(i)\n",
    "#     driver.find_element_by_xpath('/html/body/div[3]/div/div/form/input[1]').send_keys(Keys.RETURN)\n",
    "#     sleep(2)\n",
    "\n",
    "#     for j in range(1,11):\n",
    "#         try:\n",
    "#             res='/html/body/div[4]/div/a['+str(j)+']/div[2]/p'\n",
    "#             result=driver.find_element_by_xpath(res)\n",
    "#             headlines.append(result.text)\n",
    "#         except NoSuchElementException:\n",
    "#             pass\n",
    "        \n",
    "##for google\n",
    "\n",
    "driver.get('http://google.com')\n",
    "\n",
    "for i in l:\n",
    "    search = driver.find_element_by_name(\"q\")\n",
    "    search.clear()\n",
    "    search.send_keys(i)\n",
    "    search.send_keys(Keys.RETURN) # hit return after you enter search text\n",
    "    href=[]\n",
    "    tab=driver.find_elements_by_css_selector('div.hdtb-mitem')\n",
    "    print(tab)\n",
    "    for i in range(0,5):\n",
    "        if tab[i].text == 'News':\n",
    "            tab[i].click()\n",
    "            break\n",
    "#     driver.find_element_by_xpath('//*[@id=\"hdtb-msb-vis\"]/div[2]/a').click()\n",
    "    sleep(1)\n",
    "    for j in range(0,6):\n",
    "        results = driver.find_elements_by_css_selector('div.gG0TJc')\n",
    "        link = results[j].find_element_by_tag_name(\"h3\")\n",
    "        print(link.text)\n",
    "        headlines.append(link.text)\n",
    "    \n",
    "#     for k in href:\n",
    "#         try:\n",
    "#             driver.get(k)\n",
    "#             ele=driver.find_element_by_tag_name('h1')\n",
    "#             print(ele.text)\n",
    "#             headlines.append(ele.text)\n",
    "#             print(\" \")\n",
    "#         except:\n",
    "#             pass\n"
   ]
  },
  {
   "cell_type": "code",
   "execution_count": 5,
   "metadata": {},
   "outputs": [
    {
     "data": {
      "text/plain": [
       "['https://www.thehindu.com/news/international/uk-lawmakers-to-return-to-parliament-amid-political-turmoil/article29508840.ece',\n",
       " 'https://www.thehindu.com/news/top-news-of-september-25-2019-chinmayanand-accuser-arrested-for-extortion-modi-announces-150-million-line-of-credit-to-pacific-island-nations-for-climate-related-projects-and-more/article29510677.ece',\n",
       " 'https://www.scmp.com/news/world/europe/article/3020041/boris-johnson-mercilessly-purges-enemies-moving-no-10',\n",
       " 'https://www.scmp.com/news/world/europe/article/3016052/boris-johnson-tory-favourite-become-next-uk-leader-says-brexit',\n",
       " 'https://www.scmp.com/sport/cricket/article/3018575/cricket-world-cup-2019-england-beat-new-zealand-super-over-drama-win',\n",
       " 'https://www.scmp.com/news/world/europe/article/3017514/boris-johnson-pledges-make-all-immigrants-learn-english']"
      ]
     },
     "execution_count": 5,
     "metadata": {},
     "output_type": "execute_result"
    }
   ],
   "source": [
    "href"
   ]
  },
  {
   "cell_type": "code",
   "execution_count": 6,
   "metadata": {},
   "outputs": [
    {
     "data": {
      "text/plain": [
       "['U.K. lawmakers return to Parliament amid political turmoil, Brexit crisis',\n",
       " 'Top news of the day: Chinmayanand accuser arrested for extortion, Modi announces $150-million line of credit to Pacific island nations for climate-related projects, and more',\n",
       " 'New British PM Boris Johnson’s ruthless purge of enemies before moving into No 10 Downing St',\n",
       " 'Boris Johnson, Tory favourite to become next UK leader, says Brexit will happen on October 31 ‘do or die’',\n",
       " 'Cricket World Cup 2019: England beat New Zealand in super over drama to win first title',\n",
       " 'Boris Johnson pledges to make all immigrants learn English']"
      ]
     },
     "execution_count": 6,
     "metadata": {},
     "output_type": "execute_result"
    }
   ],
   "source": [
    "headlines"
   ]
  },
  {
   "cell_type": "code",
   "execution_count": 22,
   "metadata": {},
   "outputs": [
    {
     "data": {
      "text/plain": [
       "'UK lawmakers return to Parliament amid political turmoil ...'"
      ]
     },
     "execution_count": 22,
     "metadata": {},
     "output_type": "execute_result"
    }
   ],
   "source": [
    "results[0].find_element_by_tag_name('h3').text"
   ]
  },
  {
   "cell_type": "code",
   "execution_count": null,
   "metadata": {},
   "outputs": [],
   "source": []
  },
  {
   "cell_type": "code",
   "execution_count": null,
   "metadata": {},
   "outputs": [],
   "source": []
  },
  {
   "cell_type": "code",
   "execution_count": null,
   "metadata": {},
   "outputs": [],
   "source": []
  },
  {
   "cell_type": "code",
   "execution_count": 78,
   "metadata": {},
   "outputs": [
    {
     "data": {
      "text/plain": [
       "27"
      ]
     },
     "execution_count": 78,
     "metadata": {},
     "output_type": "execute_result"
    }
   ],
   "source": [
    "len(headlines)"
   ]
  },
  {
   "cell_type": "code",
   "execution_count": 36,
   "metadata": {},
   "outputs": [],
   "source": [
    "driver = webdriver.Chrome(\"chromedriver.exe\")\n",
    "driver.get(\"https://www.google.com/search?sxsrf=ACYBGNQkybDnxQeTznzXoAjSW8FfDV8M1g%3A1570119456968&ei=IB-WXerfOozcrQH82YzoCw&q=Britain’s+House+of+Commons+reconvened+on+September+25%2C+a+day+after+the+bombshell+Supreme+Court+ruling+that+Prime+Minister+Boris+Johnson+had+acted+illegally+by+suspending+Parliament%2C+and+lawmakers+immediately+demanded+answers+about+how+the+suspension+came+about+in+the+first+place.&oq=Britain’s+House+of+Commons+reconvened+on+September+25%2C+a+day+after+the+bombshell+Supreme+Court+ruling+that+Prime+Minister+Boris+Johnson+had+acted+illegally+by+suspending+Parliament%2C+and+lawmakers+immediately+demanded+answers+about+how+the+suspension+came+about+in+the+first+place.&gs_l=psy-ab.12...0.0..543176...0.0..0.0.0.......0......gws-wiz.7klPPsznftQ&ved=0ahUKEwjq7_LjvoDlAhUMbisKHfwsA70Q4dUDCAs\")\n",
    "\n",
    "results = driver.find_elements_by_css_selector('div.g')\n",
    "link = results[1].find_element_by_tag_name(\"a\")\n",
    "href = link.get_attribute(\"href\")"
   ]
  },
  {
   "cell_type": "code",
   "execution_count": 37,
   "metadata": {},
   "outputs": [
    {
     "data": {
      "text/plain": [
       "'https://www.tribuneindia.com/mobi/news/brexit-pm-in-tough-spot-as-mps-return-to-house/838241.html'"
      ]
     },
     "execution_count": 37,
     "metadata": {},
     "output_type": "execute_result"
    }
   ],
   "source": [
    "href"
   ]
  },
  {
   "cell_type": "code",
   "execution_count": 2,
   "metadata": {},
   "outputs": [
    {
     "name": "stdout",
     "output_type": "stream",
     "text": [
      "UK Parliament resumes amid political turmoil, Brexit crisis\n",
      " \n",
      "Brexit: PM in tough spot as MPs return to House\n",
      " \n",
      "U.K. lawmakers return to Parliament amid political turmoil, Brexit crisis\n",
      " \n",
      "\n",
      " \n",
      "An unrepentant Boris Johnson faces raucous Parliament\n",
      " \n"
     ]
    }
   ],
   "source": [
    "headlines=[]\n",
    "driver = webdriver.Chrome(\"chromedriver.exe\")\n",
    "l=['Britain’s House of Commons reconvened on September 25, a day after the bombshell Supreme Court ruling that Prime Minister Boris Johnson had acted illegally by suspending Parliament, and lawmakers immediately demanded answers about how the suspension came about in the first place.']\n",
    "   \n",
    "##for google\n",
    "\n",
    "driver.get('http://google.com')\n",
    "\n",
    "for i in l:\n",
    "    search = driver.find_element_by_name(\"q\")\n",
    "    search.clear()\n",
    "    search.send_keys(i)\n",
    "    search.send_keys(Keys.RETURN) # hit return after you enter search text\n",
    "    href=[]\n",
    "    for j in range(0,6):\n",
    "        results = driver.find_elements_by_css_selector('div.g')\n",
    "        link = results[j].find_element_by_tag_name(\"a\")\n",
    "        href.append(link.get_attribute(\"href\"))\n",
    "    \n",
    "    for k in href:\n",
    "        try:\n",
    "            driver.get(k)\n",
    "            ele=driver.find_element_by_tag_name('h1')\n",
    "            print(ele.text)\n",
    "            headlines.append(ele.text)\n",
    "            print(\" \")\n",
    "        except:\n",
    "            pass\n",
    "            "
   ]
  },
  {
   "cell_type": "code",
   "execution_count": 44,
   "metadata": {},
   "outputs": [
    {
     "data": {
      "text/plain": [
       "['UK Parliament resumes amid political turmoil, Brexit crisis',\n",
       " 'Brexit: PM in tough spot as MPs return to House',\n",
       " 'U.K. lawmakers return to Parliament amid political turmoil, Brexit crisis',\n",
       " 'An unrepentant Boris Johnson faces raucous Parliament',\n",
       " '']"
      ]
     },
     "execution_count": 44,
     "metadata": {},
     "output_type": "execute_result"
    }
   ],
   "source": [
    "headlines"
   ]
  },
  {
   "cell_type": "code",
   "execution_count": 45,
   "metadata": {},
   "outputs": [
    {
     "data": {
      "text/plain": [
       "['https://www.indiatoday.in/world/story/uk-parliament-resume-political-turmoil-brexit-crisis-corbyn-boris-1603171-2019-09-25',\n",
       " 'https://www.tribuneindia.com/mobi/news/brexit-pm-in-tough-spot-as-mps-return-to-house/838241.html',\n",
       " 'https://www.thehindu.com/news/international/uk-lawmakers-to-return-to-parliament-amid-political-turmoil/article29508840.ece',\n",
       " 'https://www.outlookindia.com/newsscroll/uk-parliament-resumes-amid-political-turmoil-brexit-crisis/1627149',\n",
       " 'https://www.yakimaherald.com/news/world_news/uk-parliament-resumes-amid-political-turmoil-brexit-crisis/article_16c8de06-292a-5ce7-883e-53f67e1f6f06.html',\n",
       " 'https://www.pressreader.com/philippines/panay-news/20190926/281530817746962']"
      ]
     },
     "execution_count": 45,
     "metadata": {},
     "output_type": "execute_result"
    }
   ],
   "source": [
    "href"
   ]
  },
  {
   "cell_type": "code",
   "execution_count": 46,
   "metadata": {},
   "outputs": [
    {
     "data": {
      "text/plain": [
       "6"
      ]
     },
     "execution_count": 46,
     "metadata": {},
     "output_type": "execute_result"
    }
   ],
   "source": [
    "len(href)"
   ]
  },
  {
   "cell_type": "code",
   "execution_count": 47,
   "metadata": {},
   "outputs": [
    {
     "data": {
      "text/plain": [
       "5"
      ]
     },
     "execution_count": 47,
     "metadata": {},
     "output_type": "execute_result"
    }
   ],
   "source": [
    "len(headlines)"
   ]
  },
  {
   "cell_type": "code",
   "execution_count": 78,
   "metadata": {},
   "outputs": [
    {
     "ename": "NoSuchElementException",
     "evalue": "Message: no such element: Unable to locate element: {\"method\":\"xpath\",\"selector\":\"//*[@id=\"yDmH0d\"]/c-wiz[2]/div/div[2]/div[2]/div/main/c-wiz/div[1]/div[1]/div/article/a\"}\n  (Session info: chrome=77.0.3865.90)\n  (Driver info: chromedriver=2.41.578737 (49da6702b16031c40d63e5618de03a32ff6c197e),platform=Windows NT 10.0.18362 x86_64)\n",
     "output_type": "error",
     "traceback": [
      "\u001b[1;31m---------------------------------------------------------------------------\u001b[0m",
      "\u001b[1;31mNoSuchElementException\u001b[0m                    Traceback (most recent call last)",
      "\u001b[1;32m<ipython-input-78-bb36729e57f3>\u001b[0m in \u001b[0;36m<module>\u001b[1;34m()\u001b[0m\n\u001b[0;32m     17\u001b[0m     \u001b[0mele1\u001b[0m\u001b[1;33m.\u001b[0m\u001b[0msend_keys\u001b[0m\u001b[1;33m(\u001b[0m\u001b[0mKeys\u001b[0m\u001b[1;33m.\u001b[0m\u001b[0mRETURN\u001b[0m\u001b[1;33m)\u001b[0m\u001b[1;33m\u001b[0m\u001b[0m\n\u001b[0;32m     18\u001b[0m \u001b[1;33m\u001b[0m\u001b[0m\n\u001b[1;32m---> 19\u001b[1;33m     \u001b[0mdriver\u001b[0m\u001b[1;33m.\u001b[0m\u001b[0mfind_element_by_xpath\u001b[0m\u001b[1;33m(\u001b[0m\u001b[1;34m'//*[@id=\"yDmH0d\"]/c-wiz[2]/div/div[2]/div[2]/div/main/c-wiz/div[1]/div[1]/div/article/a'\u001b[0m\u001b[1;33m)\u001b[0m\u001b[1;33m.\u001b[0m\u001b[0mclick\u001b[0m\u001b[1;33m(\u001b[0m\u001b[1;33m)\u001b[0m\u001b[1;33m\u001b[0m\u001b[0m\n\u001b[0m",
      "\u001b[1;32m~\\Anaconda3\\lib\\site-packages\\selenium\\webdriver\\remote\\webdriver.py\u001b[0m in \u001b[0;36mfind_element_by_xpath\u001b[1;34m(self, xpath)\u001b[0m\n\u001b[0;32m    391\u001b[0m             \u001b[0melement\u001b[0m \u001b[1;33m=\u001b[0m \u001b[0mdriver\u001b[0m\u001b[1;33m.\u001b[0m\u001b[0mfind_element_by_xpath\u001b[0m\u001b[1;33m(\u001b[0m\u001b[1;34m'//div/td[1]'\u001b[0m\u001b[1;33m)\u001b[0m\u001b[1;33m\u001b[0m\u001b[0m\n\u001b[0;32m    392\u001b[0m         \"\"\"\n\u001b[1;32m--> 393\u001b[1;33m         \u001b[1;32mreturn\u001b[0m \u001b[0mself\u001b[0m\u001b[1;33m.\u001b[0m\u001b[0mfind_element\u001b[0m\u001b[1;33m(\u001b[0m\u001b[0mby\u001b[0m\u001b[1;33m=\u001b[0m\u001b[0mBy\u001b[0m\u001b[1;33m.\u001b[0m\u001b[0mXPATH\u001b[0m\u001b[1;33m,\u001b[0m \u001b[0mvalue\u001b[0m\u001b[1;33m=\u001b[0m\u001b[0mxpath\u001b[0m\u001b[1;33m)\u001b[0m\u001b[1;33m\u001b[0m\u001b[0m\n\u001b[0m\u001b[0;32m    394\u001b[0m \u001b[1;33m\u001b[0m\u001b[0m\n\u001b[0;32m    395\u001b[0m     \u001b[1;32mdef\u001b[0m \u001b[0mfind_elements_by_xpath\u001b[0m\u001b[1;33m(\u001b[0m\u001b[0mself\u001b[0m\u001b[1;33m,\u001b[0m \u001b[0mxpath\u001b[0m\u001b[1;33m)\u001b[0m\u001b[1;33m:\u001b[0m\u001b[1;33m\u001b[0m\u001b[0m\n",
      "\u001b[1;32m~\\Anaconda3\\lib\\site-packages\\selenium\\webdriver\\remote\\webdriver.py\u001b[0m in \u001b[0;36mfind_element\u001b[1;34m(self, by, value)\u001b[0m\n\u001b[0;32m    964\u001b[0m         return self.execute(Command.FIND_ELEMENT, {\n\u001b[0;32m    965\u001b[0m             \u001b[1;34m'using'\u001b[0m\u001b[1;33m:\u001b[0m \u001b[0mby\u001b[0m\u001b[1;33m,\u001b[0m\u001b[1;33m\u001b[0m\u001b[0m\n\u001b[1;32m--> 966\u001b[1;33m             'value': value})['value']\n\u001b[0m\u001b[0;32m    967\u001b[0m \u001b[1;33m\u001b[0m\u001b[0m\n\u001b[0;32m    968\u001b[0m     \u001b[1;32mdef\u001b[0m \u001b[0mfind_elements\u001b[0m\u001b[1;33m(\u001b[0m\u001b[0mself\u001b[0m\u001b[1;33m,\u001b[0m \u001b[0mby\u001b[0m\u001b[1;33m=\u001b[0m\u001b[0mBy\u001b[0m\u001b[1;33m.\u001b[0m\u001b[0mID\u001b[0m\u001b[1;33m,\u001b[0m \u001b[0mvalue\u001b[0m\u001b[1;33m=\u001b[0m\u001b[1;32mNone\u001b[0m\u001b[1;33m)\u001b[0m\u001b[1;33m:\u001b[0m\u001b[1;33m\u001b[0m\u001b[0m\n",
      "\u001b[1;32m~\\Anaconda3\\lib\\site-packages\\selenium\\webdriver\\remote\\webdriver.py\u001b[0m in \u001b[0;36mexecute\u001b[1;34m(self, driver_command, params)\u001b[0m\n\u001b[0;32m    318\u001b[0m         \u001b[0mresponse\u001b[0m \u001b[1;33m=\u001b[0m \u001b[0mself\u001b[0m\u001b[1;33m.\u001b[0m\u001b[0mcommand_executor\u001b[0m\u001b[1;33m.\u001b[0m\u001b[0mexecute\u001b[0m\u001b[1;33m(\u001b[0m\u001b[0mdriver_command\u001b[0m\u001b[1;33m,\u001b[0m \u001b[0mparams\u001b[0m\u001b[1;33m)\u001b[0m\u001b[1;33m\u001b[0m\u001b[0m\n\u001b[0;32m    319\u001b[0m         \u001b[1;32mif\u001b[0m \u001b[0mresponse\u001b[0m\u001b[1;33m:\u001b[0m\u001b[1;33m\u001b[0m\u001b[0m\n\u001b[1;32m--> 320\u001b[1;33m             \u001b[0mself\u001b[0m\u001b[1;33m.\u001b[0m\u001b[0merror_handler\u001b[0m\u001b[1;33m.\u001b[0m\u001b[0mcheck_response\u001b[0m\u001b[1;33m(\u001b[0m\u001b[0mresponse\u001b[0m\u001b[1;33m)\u001b[0m\u001b[1;33m\u001b[0m\u001b[0m\n\u001b[0m\u001b[0;32m    321\u001b[0m             response['value'] = self._unwrap_value(\n\u001b[0;32m    322\u001b[0m                 response.get('value', None))\n",
      "\u001b[1;32m~\\Anaconda3\\lib\\site-packages\\selenium\\webdriver\\remote\\errorhandler.py\u001b[0m in \u001b[0;36mcheck_response\u001b[1;34m(self, response)\u001b[0m\n\u001b[0;32m    240\u001b[0m                 \u001b[0malert_text\u001b[0m \u001b[1;33m=\u001b[0m \u001b[0mvalue\u001b[0m\u001b[1;33m[\u001b[0m\u001b[1;34m'alert'\u001b[0m\u001b[1;33m]\u001b[0m\u001b[1;33m.\u001b[0m\u001b[0mget\u001b[0m\u001b[1;33m(\u001b[0m\u001b[1;34m'text'\u001b[0m\u001b[1;33m)\u001b[0m\u001b[1;33m\u001b[0m\u001b[0m\n\u001b[0;32m    241\u001b[0m             \u001b[1;32mraise\u001b[0m \u001b[0mexception_class\u001b[0m\u001b[1;33m(\u001b[0m\u001b[0mmessage\u001b[0m\u001b[1;33m,\u001b[0m \u001b[0mscreen\u001b[0m\u001b[1;33m,\u001b[0m \u001b[0mstacktrace\u001b[0m\u001b[1;33m,\u001b[0m \u001b[0malert_text\u001b[0m\u001b[1;33m)\u001b[0m\u001b[1;33m\u001b[0m\u001b[0m\n\u001b[1;32m--> 242\u001b[1;33m         \u001b[1;32mraise\u001b[0m \u001b[0mexception_class\u001b[0m\u001b[1;33m(\u001b[0m\u001b[0mmessage\u001b[0m\u001b[1;33m,\u001b[0m \u001b[0mscreen\u001b[0m\u001b[1;33m,\u001b[0m \u001b[0mstacktrace\u001b[0m\u001b[1;33m)\u001b[0m\u001b[1;33m\u001b[0m\u001b[0m\n\u001b[0m\u001b[0;32m    243\u001b[0m \u001b[1;33m\u001b[0m\u001b[0m\n\u001b[0;32m    244\u001b[0m     \u001b[1;32mdef\u001b[0m \u001b[0m_value_or_default\u001b[0m\u001b[1;33m(\u001b[0m\u001b[0mself\u001b[0m\u001b[1;33m,\u001b[0m \u001b[0mobj\u001b[0m\u001b[1;33m,\u001b[0m \u001b[0mkey\u001b[0m\u001b[1;33m,\u001b[0m \u001b[0mdefault\u001b[0m\u001b[1;33m)\u001b[0m\u001b[1;33m:\u001b[0m\u001b[1;33m\u001b[0m\u001b[0m\n",
      "\u001b[1;31mNoSuchElementException\u001b[0m: Message: no such element: Unable to locate element: {\"method\":\"xpath\",\"selector\":\"//*[@id=\"yDmH0d\"]/c-wiz[2]/div/div[2]/div[2]/div/main/c-wiz/div[1]/div[1]/div/article/a\"}\n  (Session info: chrome=77.0.3865.90)\n  (Driver info: chromedriver=2.41.578737 (49da6702b16031c40d63e5618de03a32ff6c197e),platform=Windows NT 10.0.18362 x86_64)\n"
     ]
    }
   ],
   "source": [
    "headlines=[]\n",
    "driver = webdriver.Chrome(\"chromedriver.exe\")\n",
    "l=['Britain’s House of Commons reconvened on September 25, a day after the bombshell Supreme Court ruling that Prime Minister Boris Johnson had acted illegally by suspending Parliament, and lawmakers immediately demanded answers about how the suspension came about in the first place.']\n",
    "   \n",
    "##for google\n",
    "\n",
    "driver.get('http://news.google.com')\n",
    "\n",
    "href=[]\n",
    "\n",
    "for i in l:\n",
    "    #send keys\n",
    "    ele=driver.find_element_by_xpath('//*[@id=\"gb\"]/div[2]/div[2]/div/form/div[1]/div/div/div/div/div[1]/input[2]')\n",
    "    ele.send_keys(i)\n",
    "    #click enter\n",
    "    ele1=driver.find_element_by_xpath('//*[@id=\"gb\"]/div[2]/div[2]/div/form/div[1]/div/div/div/div/div[1]/input[2]')\n",
    "    ele1.send_keys(Keys.RETURN)\n",
    "    \n",
    "    driver.find_element_by_xpath('//*[@id=\"yDmH0d\"]/c-wiz[2]/div/div[2]/div[2]/div/main/c-wiz/div[1]/div[1]/div/article/a').click()"
   ]
  },
  {
   "cell_type": "code",
   "execution_count": 5,
   "metadata": {},
   "outputs": [],
   "source": [
    "from statistics import mean\n",
    "stances=[0,1,2,3,1,1,2,3]"
   ]
  },
  {
   "cell_type": "code",
   "execution_count": 6,
   "metadata": {},
   "outputs": [
    {
     "name": "stdout",
     "output_type": "stream",
     "text": [
      "1.625\n"
     ]
    },
    {
     "data": {
      "text/plain": [
       "2"
      ]
     },
     "execution_count": 6,
     "metadata": {},
     "output_type": "execute_result"
    }
   ],
   "source": [
    "print(mean(stances))\n",
    "round(mean(stances))"
   ]
  },
  {
   "cell_type": "code",
   "execution_count": 7,
   "metadata": {},
   "outputs": [],
   "source": [
    "from collections import Counter\n",
    "most_common,num_most_common = Counter(stances).most_common(1)[0]"
   ]
  },
  {
   "cell_type": "code",
   "execution_count": 8,
   "metadata": {},
   "outputs": [
    {
     "data": {
      "text/plain": [
       "1"
      ]
     },
     "execution_count": 8,
     "metadata": {},
     "output_type": "execute_result"
    }
   ],
   "source": [
    "most_common"
   ]
  },
  {
   "cell_type": "code",
   "execution_count": null,
   "metadata": {},
   "outputs": [],
   "source": [
    "truth_val=0\n",
    "#for agree truthval +0.5\n",
    "#for disagree truthval -0.5\n",
    "#for discuss truthval +0.2\n",
    "#for unrelated truthval -0.5"
   ]
  },
  {
   "cell_type": "code",
   "execution_count": 10,
   "metadata": {},
   "outputs": [
    {
     "data": {
      "text/plain": [
       "(1, 3)"
      ]
     },
     "execution_count": 10,
     "metadata": {},
     "output_type": "execute_result"
    }
   ],
   "source": [
    "Counter(stances).most_common(1)[0]"
   ]
  },
  {
   "cell_type": "code",
   "execution_count": 30,
   "metadata": {},
   "outputs": [],
   "source": [
    "for i in range(0,len(stances)):\n",
    "    if stances[i]==3:\n",
    "        stances[i]=1"
   ]
  },
  {
   "cell_type": "code",
   "execution_count": 18,
   "metadata": {},
   "outputs": [
    {
     "data": {
      "text/plain": [
       "Counter({0: 1, 1: 3, 2: 2, 3: 2})"
      ]
     },
     "execution_count": 18,
     "metadata": {},
     "output_type": "execute_result"
    }
   ],
   "source": [
    "Counter(stances)"
   ]
  },
  {
   "cell_type": "code",
   "execution_count": null,
   "metadata": {},
   "outputs": [],
   "source": [
    "no_of_related_articles=0"
   ]
  }
 ],
 "metadata": {
  "kernelspec": {
   "display_name": "Python 3",
   "language": "python",
   "name": "python3"
  },
  "language_info": {
   "codemirror_mode": {
    "name": "ipython",
    "version": 3
   },
   "file_extension": ".py",
   "mimetype": "text/x-python",
   "name": "python",
   "nbconvert_exporter": "python",
   "pygments_lexer": "ipython3",
   "version": "3.6.5"
  }
 },
 "nbformat": 4,
 "nbformat_minor": 2
}
